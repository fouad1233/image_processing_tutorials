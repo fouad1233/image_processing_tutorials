{
 "cells": [
  {
   "cell_type": "markdown",
   "metadata": {},
   "source": [
    "# Project 2\n",
    "\n",
    "> **Note:** I start to write an image analyzing tool library for all the projects. I named the library  image_analyzer.py and it include the main class `Image_analyzer()` . This class includes at this moment certain functions that can help in the project and is usefull, like read and write pgm files and drawing lines.\n",
    "\n",
    "> I will use this library functions in all my assignments in this course and i will extend this library project by project with a purpose to understanding making usefull libraries for image processing and make libraries that can be easly reused by other peoples and engineers."
   ]
  },
  {
   "cell_type": "code",
   "execution_count": 2,
   "metadata": {},
   "outputs": [],
   "source": []
  },
  {
   "cell_type": "code",
   "execution_count": null,
   "metadata": {},
   "outputs": [],
   "source": []
  }
 ],
 "metadata": {
  "kernelspec": {
   "display_name": "base",
   "language": "python",
   "name": "python3"
  },
  "language_info": {
   "codemirror_mode": {
    "name": "ipython",
    "version": 3
   },
   "file_extension": ".py",
   "mimetype": "text/x-python",
   "name": "python",
   "nbconvert_exporter": "python",
   "pygments_lexer": "ipython3",
   "version": "3.11.10"
  }
 },
 "nbformat": 4,
 "nbformat_minor": 2
}
